{
 "cells": [
  {
   "cell_type": "markdown",
   "metadata": {},
   "source": [
    " "
   ]
  },
  {
   "cell_type": "markdown",
   "metadata": {},
   "source": [
    "Засоби підготовки та аналізу даних\n",
    "\n",
    "Лабораторна робота №2\n",
    "\n",
    "Виконав: Радіонов Арсеній ФБ-22\n",
    "\n",
    "Спочатку імпортуємо потрібні бібліотеки"
   ]
  },
  {
   "cell_type": "code",
   "execution_count": 2,
   "metadata": {},
   "outputs": [],
   "source": [
    "import pandas as pd\n",
    "import urllib.request\n",
    "import os\n",
    "from datetime import datetime, date\n",
    "import csv"
   ]
  },
  {
   "cell_type": "markdown",
   "metadata": {},
   "source": [
    "Тепер давайте створимо директорію та ініціалізуємо змінні для подальшої роботи"
   ]
  },
  {
   "cell_type": "code",
   "execution_count": 13,
   "metadata": {},
   "outputs": [],
   "source": [
    "folder = 'lab_2'\n",
    "web_link = ('https://www.star.nesdis.noaa.gov/smcd/emb/vci/VH/get_TS_admin.php?country=UKR&provinceID={''}&year1=1981&year2=2024&type=Mean')\n",
    "indices = {1: 22, 2: 24, 3: 23, 4: 25, 5: 3, 6: 4, 7: 8, 8: 19, 9: 20, 10: 21, 11: 9, 13: 10, 14: 11, 15: 12, 16: 13, 17: 14, 18: 15, 19: 16, 21: 17, 22: 18, 23: 6, 24: 1, 25: 2, 26: 7, 27: 5}\n",
    "if not os.path.exists(folder):\n",
    "    os.makedirs(folder)"
   ]
  },
  {
   "cell_type": "markdown",
   "metadata": {},
   "source": [
    "Тепер заванатжимо потрібні дані та перевіримо їх"
   ]
  },
  {
   "cell_type": "code",
   "execution_count": 17,
   "metadata": {},
   "outputs": [
    {
     "name": "stdout",
     "output_type": "stream",
     "text": [
      "file with index 22 already exists\n",
      "file with index 24 already exists\n",
      "file with index 23 already exists\n",
      "file with index 25 already exists\n",
      "file with index 3 already exists\n",
      "file with index 4 already exists\n",
      "file with index 8 already exists\n",
      "file with index 19 already exists\n",
      "file with index 20 already exists\n",
      "file with index 21 already exists\n",
      "file with index 9 already exists\n",
      "file with index 10 already exists\n",
      "file with index 11 already exists\n",
      "file with index 12 already exists\n",
      "file with index 13 already exists\n",
      "file with index 14 already exists\n",
      "file with index 15 already exists\n",
      "file with index 16 already exists\n",
      "file with index 17 already exists\n",
      "file with index 18 already exists\n",
      "file with index 6 already exists\n",
      "file with index 1 already exists\n",
      "file with index 2 already exists\n",
      "file with index 7 already exists\n",
      "file with index 5 already exists\n",
      "Success\n"
     ]
    }
   ],
   "source": [
    "for region_id, ind in indices.items():\n",
    "    file_exists = False\n",
    "    filename_start = 'NOAA_' + str(ind) + '_'\n",
    "    for filename in os.listdir(folder):\n",
    "        if filename.startswith(filename_start):\n",
    "            print('file with index ' + str(ind) + ' already exists')\n",
    "            file_exists = True\n",
    "    if not file_exists:\n",
    "        url_link = web_link.format(region_id)\n",
    "        web_page = urllib.request.urlopen(url_link)\n",
    "        page_text = web_page.read()\n",
    "        current_time = datetime.now()\n",
    "        date_time = current_time.strftime(\"%d-%m-%Y_%H-%M-%S\")\n",
    "        file_path = os.path.join(folder, 'NOAA_' + str(ind) + '_' + date_time + '.csv')\n",
    "        with open(file_path, 'wb') as output_file:\n",
    "            output_file.write(page_text)\n",
    "        print('file ' + file_path + ' was created')\n",
    "print('Success')"
   ]
  },
  {
   "cell_type": "markdown",
   "metadata": {},
   "source": [
    "Тепер з наших CSV файлів створимо датафрейм у нашій директорії. Виглядає таким чином:"
   ]
  },
  {
   "cell_type": "code",
   "execution_count": 4,
   "metadata": {},
   "outputs": [
    {
     "name": "stdout",
     "output_type": "stream",
     "text": [
      "File all.csv already exists and has been removed.\n",
      "Successfully read file: NOAA_10_24-03-2024_23-20-15.csv\n",
      "Successfully read file: NOAA_11_24-03-2024_23-20-16.csv\n",
      "Successfully read file: NOAA_12_24-03-2024_23-20-17.csv\n",
      "Successfully read file: NOAA_13_24-03-2024_23-20-18.csv\n",
      "Successfully read file: NOAA_14_24-03-2024_23-20-18.csv\n",
      "Successfully read file: NOAA_15_24-03-2024_23-20-19.csv\n",
      "Successfully read file: NOAA_16_24-03-2024_23-20-20.csv\n",
      "Successfully read file: NOAA_17_24-03-2024_23-20-21.csv\n",
      "Successfully read file: NOAA_18_24-03-2024_23-20-22.csv\n",
      "Successfully read file: NOAA_19_24-03-2024_23-20-11.csv\n",
      "Successfully read file: NOAA_1_24-03-2024_23-20-24.csv\n",
      "Successfully read file: NOAA_20_24-03-2024_23-20-12.csv\n",
      "Successfully read file: NOAA_21_24-03-2024_23-20-13.csv\n",
      "Successfully read file: NOAA_22_24-03-2024_23-20-02.csv\n",
      "Successfully read file: NOAA_23_24-03-2024_23-20-04.csv\n",
      "Successfully read file: NOAA_24_24-03-2024_23-20-03.csv\n",
      "Successfully read file: NOAA_25_24-03-2024_23-20-05.csv\n",
      "Successfully read file: NOAA_2_24-03-2024_23-20-25.csv\n"
     ]
    },
    {
     "name": "stderr",
     "output_type": "stream",
     "text": [
      "C:\\Users\\arsen\\AppData\\Local\\Temp\\ipykernel_9360\\155712309.py:27: FutureWarning: The behavior of DataFrame concatenation with empty or all-NA entries is deprecated. In a future version, this will no longer exclude empty or all-NA columns when determining the result dtypes. To retain the old behavior, exclude the relevant entries before the concat operation.\n",
      "  dataframe = pd.concat([dataframe, df], ignore_index=True)\n"
     ]
    },
    {
     "name": "stdout",
     "output_type": "stream",
     "text": [
      "Successfully read file: NOAA_3_24-03-2024_23-20-05.csv\n",
      "Successfully read file: NOAA_4_24-03-2024_23-20-09.csv\n",
      "Successfully read file: NOAA_5_24-03-2024_23-20-27.csv\n",
      "Successfully read file: NOAA_6_24-03-2024_23-20-23.csv\n",
      "Successfully read file: NOAA_7_24-03-2024_23-20-26.csv\n",
      "Successfully read file: NOAA_8_24-03-2024_23-20-10.csv\n",
      "Successfully read file: NOAA_9_24-03-2024_23-20-14.csv\n",
      "DataFrame saved to: all.csv\n",
      "num of missing values:\n",
      "Year    0\n",
      "Week    0\n",
      "SMN     0\n",
      "SMT     0\n",
      "VCI     0\n",
      "TCI     0\n",
      "VHI     0\n",
      "area    0\n",
      "dtype: int64\n",
      "negatives -1: 0\n",
      "       Year  Week    SMN     SMT    VCI    TCI    VHI            area\n",
      "0      1982   1.0  0.045  261.12  36.68  41.79  39.23  Кіровоградська\n",
      "1      1982   2.0  0.041  262.61  36.46  35.10  35.78  Кіровоградська\n",
      "2      1982   3.0  0.041  263.82  36.49  30.79  33.64  Кіровоградська\n",
      "3      1982   4.0  0.038  264.71  33.46  28.66  31.06  Кіровоградська\n",
      "4      1982   5.0  0.034  264.76  29.66  30.50  30.08  Кіровоградська\n",
      "...     ...   ...    ...     ...    ...    ...    ...             ...\n",
      "53620  2024   7.0  0.105  268.78  61.68  29.21  45.41        Київська\n",
      "53621  2024   8.0  0.123  272.20  66.04  22.41  44.19        Київська\n",
      "53622  2024   9.0  0.141  275.18  69.86  18.22  44.01        Київська\n",
      "53623  2024  10.0  0.156  277.23  69.96  19.37  44.63        Київська\n",
      "53624  2024  11.0  0.162  277.74  65.66  25.64  45.62        Київська\n",
      "\n",
      "[53625 rows x 8 columns]\n"
     ]
    }
   ],
   "source": [
    "region_names = {\n",
    "    1: 'Вінницька', 2: 'Волинська', 3: 'Дніпропетровська', 4: 'Донецька', 5: 'Житомирська',\n",
    "    6: 'Закарпатська', 7: 'Запорізька', 8: 'Івано-Франківська', 9: 'Київська',\n",
    "    10: 'Кіровоградська', 11: 'Луганська', 12: 'Львівська', 13: 'Миколаївська', 14: 'Одеська',\n",
    "    15: 'Полтавська', 16: 'Рівенська', 17: 'Сумська', 18: 'Тернопільська', 19: 'Харківська',\n",
    "    20: 'Херсонська', 21: 'Хмельницька', 22: 'Черкаська', 23: 'Чернівецька', 24: 'Чернігівська',\n",
    "    25: 'Республіка Крим'\n",
    "}\n",
    "\n",
    "def read_files_to_dataframe(directory, output_path):\n",
    "    headers = ['Year', 'Week', 'SMN', 'SMT', 'VCI', 'TCI', 'VHI', 'area']\n",
    "    dataframe = pd.DataFrame(columns=headers)\n",
    "    if os.path.exists(output_path):\n",
    "        os.remove(output_path)\n",
    "        print(f'File {output_path} already exists and has been removed.')\n",
    "    for filename in os.listdir(directory):\n",
    "        if filename.endswith('.csv'):\n",
    "            file_path = os.path.join(directory, filename)\n",
    "            try:\n",
    "                df = pd.read_csv(file_path, skiprows=2, names=headers)\n",
    "                df['Year'] = df['Year'].str.replace('<tt><pre>', '').str.replace('</pre></tt>', '')\n",
    "                region = int(filename.split('_')[1])\n",
    "                df['area'] = region\n",
    "                df['area'] = df['area'].replace({index: region for index, region in region_names.items()})\n",
    "                df = df.drop(df.loc[df['VHI'] == -1].index)\n",
    "                df = df.dropna()\n",
    "                dataframe = pd.concat([dataframe, df], ignore_index=True)\n",
    "                print(f'Successfully read file: {filename}')\n",
    "            except pd.errors.ParserError:\n",
    "                print(f'Error reading {filename}: ParserError')\n",
    "    dataframe.to_csv(output_path, index=False)\n",
    "    print(f'DataFrame saved to: {output_path}')\n",
    "    missing_values = df.isnull().sum()\n",
    "\n",
    "    print(\"num of missing values:\")\n",
    "    print(missing_values)\n",
    "\n",
    "    negative_count = (df == -1).sum().sum()\n",
    "\n",
    "    print(f\"negatives -1: {negative_count}\")\n",
    "\n",
    "    return dataframe\n",
    "\n",
    "df = read_files_to_dataframe('lab_2', 'all.csv')\n",
    "print(df)"
   ]
  },
  {
   "cell_type": "markdown",
   "metadata": {},
   "source": [
    "Робимо першу процедуру. Ряд \"VHI\" для області за рік вказаний нами."
   ]
  },
  {
   "cell_type": "code",
   "execution_count": 19,
   "metadata": {},
   "outputs": [
    {
     "name": "stdout",
     "output_type": "stream",
     "text": [
      "VHI data for the year 1999 and area Київська:\n",
      "VHI values: 37.7, 39.39, 43.82, 48.27, 52.55, 53.61, 52.3, 50.36, 47.0, 45.29, 44.57, 44.58, 45.43, 47.24, 51.1, 54.21, 58.33, 64.64, 67.36, 67.42, 64.85, 60.47, 56.36, 51.55, 47.28, 43.78, 43.3, 44.73, 46.39, 48.7, 50.45, 52.75, 53.88, 55.0, 56.07, 54.64, 50.68, 44.68, 41.87, 46.53, 51.19, 49.7, 47.31, 41.86, 38.46, 33.93, 29.4, 28.16, 26.79, 24.0, 21.31, 21.64\n"
     ]
    }
   ],
   "source": [
    "def VHI_of_year_and_area(selected_year, selected_area):\n",
    "    vhi_data = df[(df['Year'] == selected_year) & (df['area'] == selected_area)]\n",
    "    if not vhi_data.empty:\n",
    "        print(f\"VHI data for the year {selected_year} and area {selected_area}:\")\n",
    "        vhi_values = ', '.join(map(str, vhi_data['VHI']))\n",
    "        print(f\"VHI values: {vhi_values}\")\n",
    "    else:\n",
    "        print(\"No data available for the selected year and area.\")\n",
    "\n",
    "selected_year = input(\"Enter the year: \")\n",
    "selected_area = input(\"Enter the area: \")\n",
    "VHI_of_year_and_area(selected_year, selected_area)"
   ]
  },
  {
   "cell_type": "markdown",
   "metadata": {},
   "source": [
    "Шукаємо екстремуми (min та max), реалізовано наступним чином:"
   ]
  },
  {
   "cell_type": "code",
   "execution_count": 5,
   "metadata": {},
   "outputs": [
    {
     "name": "stdout",
     "output_type": "stream",
     "text": [
      "Minimum VHI value for Чернігівська in 1999 year: 24.46\n",
      "Rows with minimum VHI:\n",
      "Week: 52.0, VHI: 24.46\n",
      "Maximum VHI value for Чернігівська in 1999 year: 69.27\n",
      "Rows with maximum VHI:\n",
      "Week: 20.0, VHI: 69.27\n"
     ]
    }
   ],
   "source": [
    "def VHI_of_minmax(selected_area, selected_year):\n",
    "    found = df[(df[\"area\"] == selected_area) & (df[\"Year\"] == str(selected_year))]\n",
    "    min_v = df[(df['Year'].astype(str) == str(selected_year)) & (df[\"area\"] == selected_area)]['VHI'].min()\n",
    "    max_v = df[(df['Year'].astype(str) == str(selected_year)) & (df[\"area\"] == selected_area)]['VHI'].max()\n",
    "    \n",
    "    print(f\"Minimum VHI value for {selected_area} in {selected_year} year: {min_v}\")\n",
    "    min_row = found[found['VHI'] == min_v]\n",
    "    print(\"Rows with minimum VHI:\")\n",
    "    for index, row in min_row.iterrows():\n",
    "        print(f\"Week: {row['Week']}, VHI: {row['VHI']}\")\n",
    "    \n",
    "    print(f\"Maximum VHI value for {selected_area} in {selected_year} year: {max_v}\")\n",
    "    max_row = found[found['VHI'] == max_v]\n",
    "    print(\"Rows with maximum VHI:\")\n",
    "    for index, row in max_row.iterrows():\n",
    "        print(f\"Week: {row['Week']}, VHI: {row['VHI']}\")\n",
    "\n",
    "selected_area = input('Enter your area: ')\n",
    "selected_year = input('Enter your year: ')\n",
    "VHI_of_minmax(selected_area, selected_year)"
   ]
  },
  {
   "cell_type": "markdown",
   "metadata": {},
   "source": [
    "### Ряд VHI за вказаний діапазон років для вказаних областей:"
   ]
  },
  {
   "cell_type": "code",
   "execution_count": 11,
   "metadata": {},
   "outputs": [
    {
     "name": "stdout",
     "output_type": "stream",
     "text": [
      "Year: 1999\n",
      "Area: Черкаська\n",
      "       Week    VHI\n",
      "28739   1.0  38.74\n",
      "28740   2.0  39.43\n",
      "28741   3.0  43.12\n",
      "28742   4.0  48.17\n",
      "28743   5.0  52.85\n",
      "Area: Одеська\n",
      "      Week    VHI\n",
      "9434   1.0  44.72\n",
      "9435   2.0  45.74\n",
      "9436   3.0  45.86\n",
      "9437   4.0  45.30\n",
      "9438   5.0  45.78\n",
      "\n",
      "Year: 2000\n",
      "Area: Черкаська\n",
      "       Week    VHI\n",
      "28791   1.0  35.79\n",
      "28792   2.0  37.89\n",
      "28793   3.0  37.46\n",
      "28794   4.0  36.62\n",
      "28795   5.0  37.63\n",
      "Area: Одеська\n",
      "      Week    VHI\n",
      "9486   1.0  34.57\n",
      "9487   2.0  38.38\n",
      "9488   3.0  38.26\n",
      "9489   4.0  38.16\n",
      "9490   5.0  38.20\n",
      "\n",
      "Year: 2001\n",
      "Area: Черкаська\n",
      "       Week    VHI\n",
      "28843   1.0  40.54\n",
      "28844   2.0  48.28\n",
      "28845   3.0  49.73\n",
      "28846   4.0  49.01\n",
      "28847   5.0  47.39\n",
      "Area: Одеська\n",
      "      Week    VHI\n",
      "9538   1.0  31.91\n",
      "9539   2.0  39.48\n",
      "9540   3.0  45.18\n",
      "9541   4.0  46.57\n",
      "9542   5.0  47.07\n",
      "\n"
     ]
    }
   ],
   "source": [
    "def VHI_for_several_years_and_areas(selected_areas, start_year, end_year):\n",
    "    for year in range(start_year, end_year + 1):\n",
    "        print(f\"Year: {year}\")\n",
    "        filtered_data_year = df[df['Year'] == str(year)]\n",
    "        for area in selected_areas:\n",
    "            filtered_data_area = filtered_data_year[filtered_data_year['area'] == area]\n",
    "            print(f\"Area: {area}\")\n",
    "            if not filtered_data_area.empty:\n",
    "                # vhi_values = ', '.join(map(str, filtered_data_area['VHI']))\n",
    "                table = filtered_data_area[['Week', 'VHI']].head(5)\n",
    "                print(table)\n",
    "                \n",
    "            else:\n",
    "                print(\"No data available for this area and year.\")\n",
    "        print()\n",
    "\n",
    "selected_areas = ['Черкаська', 'Одеська']\n",
    "start_year = 1999\n",
    "end_year = 2001\n",
    "VHI_for_several_years_and_areas(selected_areas, start_year, end_year)"
   ]
  },
  {
   "cell_type": "markdown",
   "metadata": {},
   "source": [
    "Тепер потрібно визначити роки, коли екстремальні посухи вплинули на більшу кількість областей, ніж вказана межа в 20% (тобто 5 областей з 25)."
   ]
  },
  {
   "cell_type": "code",
   "execution_count": 23,
   "metadata": {},
   "outputs": [
    {
     "name": "stdout",
     "output_type": "stream",
     "text": [
      "Years with extreme droughts affecting more than 5.0% of regions:\n",
      "Year: 1986, Affected areas: ['Луганська', 'Донецька'], Lowest VHI value: 12.45\n",
      "\n",
      "Year: 1993, Affected areas: ['Луганська', 'Донецька'], Lowest VHI value: 6.26\n",
      "\n",
      "Year: 2000, Affected areas: ['Харківська', 'Вінницька', 'Черкаська', 'Київська'], Lowest VHI value: 9.36\n",
      "\n",
      "Year: 2007, Affected areas: ['Миколаївська', 'Одеська', 'Херсонська', 'Республіка Крим', 'Запорізька'], Lowest VHI value: 5.52\n",
      "\n"
     ]
    }
   ],
   "source": [
    "def extreme_drought(percent_threshold=0.2):\n",
    "    extreme_drought_years = []\n",
    "    extreme_drought_areas = {}\n",
    "    for year in df['Year'].unique():\n",
    "        drought_areas = df[(df['Year'] == year) & (df['VHI'] < 15)]['area'].unique()\n",
    "        drought_areas_count = len(drought_areas)\n",
    "        if (drought_areas_count / 25) >= percent_threshold:\n",
    "            extreme_drought_years.append(year)\n",
    "            extreme_drought_areas[year] = drought_areas.tolist()\n",
    "    return extreme_drought_years, extreme_drought_areas\n",
    "\n",
    "percent_threshold = 0.05\n",
    "extreme_drought_years, extreme_drought_areas = extreme_drought(percent_threshold)\n",
    "print(f\"Years with extreme droughts affecting more than {percent_threshold * 100}% of regions:\")\n",
    "for year in extreme_drought_years:\n",
    "    min_vhi_value = df[(df['Year'].astype(str) == str(year))]['VHI'].min()\n",
    "    print(f\"Year: {year}, Affected areas: {extreme_drought_areas[year]}, Lowest VHI value: {min_vhi_value}\")\n",
    "    print()"
   ]
  },
  {
   "cell_type": "markdown",
   "metadata": {},
   "source": [
    "Реалізуємо для помірних посух"
   ]
  },
  {
   "cell_type": "code",
   "execution_count": 25,
   "metadata": {},
   "outputs": [
    {
     "name": "stdout",
     "output_type": "stream",
     "text": [
      "Years with extreme droughts affecting more than 95% of regions:\n",
      "Year: 1982, Affected areas: ['Кіровоградська', 'Луганська', 'Львівська', 'Миколаївська', 'Одеська', 'Полтавська', 'Рівенська', 'Сумська', 'Тернопільська', 'Харківська', 'Вінницька', 'Херсонська', 'Хмельницька', 'Черкаська', 'Чернівецька', 'Чернігівська', 'Республіка Крим', 'Волинська', 'Дніпропетровська', 'Донецька', 'Житомирська', 'Закарпатська', 'Запорізька', 'Івано-Франківська', 'Київська']\n",
      "Year: 1983, Affected areas: ['Кіровоградська', 'Луганська', 'Львівська', 'Миколаївська', 'Одеська', 'Полтавська', 'Рівенська', 'Сумська', 'Тернопільська', 'Харківська', 'Вінницька', 'Херсонська', 'Хмельницька', 'Черкаська', 'Чернівецька', 'Чернігівська', 'Республіка Крим', 'Волинська', 'Дніпропетровська', 'Донецька', 'Житомирська', 'Закарпатська', 'Запорізька', 'Івано-Франківська', 'Київська']\n",
      "Year: 1984, Affected areas: ['Кіровоградська', 'Луганська', 'Львівська', 'Миколаївська', 'Полтавська', 'Рівенська', 'Сумська', 'Тернопільська', 'Харківська', 'Вінницька', 'Херсонська', 'Хмельницька', 'Черкаська', 'Чернівецька', 'Чернігівська', 'Республіка Крим', 'Волинська', 'Дніпропетровська', 'Донецька', 'Житомирська', 'Закарпатська', 'Запорізька', 'Івано-Франківська', 'Київська']\n",
      "Year: 1985, Affected areas: ['Кіровоградська', 'Луганська', 'Львівська', 'Миколаївська', 'Одеська', 'Полтавська', 'Рівенська', 'Сумська', 'Тернопільська', 'Харківська', 'Вінницька', 'Херсонська', 'Хмельницька', 'Черкаська', 'Чернівецька', 'Чернігівська', 'Республіка Крим', 'Волинська', 'Дніпропетровська', 'Донецька', 'Закарпатська', 'Запорізька', 'Івано-Франківська', 'Київська']\n",
      "Year: 1986, Affected areas: ['Кіровоградська', 'Луганська', 'Львівська', 'Миколаївська', 'Одеська', 'Полтавська', 'Рівенська', 'Сумська', 'Тернопільська', 'Харківська', 'Вінницька', 'Херсонська', 'Хмельницька', 'Черкаська', 'Чернівецька', 'Чернігівська', 'Республіка Крим', 'Волинська', 'Дніпропетровська', 'Донецька', 'Житомирська', 'Закарпатська', 'Запорізька', 'Івано-Франківська', 'Київська']\n",
      "Year: 1989, Affected areas: ['Кіровоградська', 'Луганська', 'Львівська', 'Миколаївська', 'Одеська', 'Полтавська', 'Рівенська', 'Сумська', 'Тернопільська', 'Харківська', 'Вінницька', 'Херсонська', 'Хмельницька', 'Черкаська', 'Чернівецька', 'Чернігівська', 'Республіка Крим', 'Волинська', 'Дніпропетровська', 'Донецька', 'Житомирська', 'Закарпатська', 'Запорізька', 'Київська']\n",
      "Year: 1995, Affected areas: ['Кіровоградська', 'Луганська', 'Львівська', 'Миколаївська', 'Одеська', 'Полтавська', 'Рівенська', 'Сумська', 'Тернопільська', 'Харківська', 'Вінницька', 'Херсонська', 'Хмельницька', 'Черкаська', 'Чернівецька', 'Чернігівська', 'Республіка Крим', 'Волинська', 'Дніпропетровська', 'Донецька', 'Житомирська', 'Закарпатська', 'Запорізька', 'Київська']\n",
      "Year: 1996, Affected areas: ['Кіровоградська', 'Луганська', 'Львівська', 'Миколаївська', 'Одеська', 'Полтавська', 'Сумська', 'Тернопільська', 'Харківська', 'Вінницька', 'Херсонська', 'Хмельницька', 'Черкаська', 'Чернівецька', 'Чернігівська', 'Республіка Крим', 'Волинська', 'Дніпропетровська', 'Донецька', 'Житомирська', 'Закарпатська', 'Запорізька', 'Івано-Франківська', 'Київська']\n",
      "Year: 2000, Affected areas: ['Кіровоградська', 'Луганська', 'Львівська', 'Миколаївська', 'Одеська', 'Полтавська', 'Рівенська', 'Сумська', 'Тернопільська', 'Харківська', 'Вінницька', 'Херсонська', 'Хмельницька', 'Черкаська', 'Чернівецька', 'Чернігівська', 'Республіка Крим', 'Волинська', 'Дніпропетровська', 'Донецька', 'Житомирська', 'Закарпатська', 'Запорізька', 'Івано-Франківська', 'Київська']\n",
      "Year: 2019, Affected areas: ['Кіровоградська', 'Луганська', 'Львівська', 'Миколаївська', 'Одеська', 'Полтавська', 'Рівенська', 'Сумська', 'Тернопільська', 'Харківська', 'Вінницька', 'Херсонська', 'Хмельницька', 'Черкаська', 'Чернівецька', 'Чернігівська', 'Республіка Крим', 'Дніпропетровська', 'Донецька', 'Житомирська', 'Закарпатська', 'Запорізька', 'Івано-Франківська', 'Київська']\n"
     ]
    }
   ],
   "source": [
    "def moderate_drought():\n",
    "    mod_dro_years = []\n",
    "    mod_dro_regions = {}\n",
    "    for year in df['Year'].unique():\n",
    "        drought_regions = df[(df['Year'] == year) & (df['VHI'] > 15) & (df['VHI'] < 35)]['area'].unique()\n",
    "        drought_regions_count = len(drought_regions)\n",
    "        if (drought_regions_count / 25) >= 0.95:\n",
    "            mod_dro_years.append(year)\n",
    "            mod_dro_regions[year] = drought_regions.tolist()\n",
    "    return mod_dro_years, mod_dro_regions\n",
    "\n",
    "ext_dro_years, mod_dro_regions = moderate_drought()\n",
    "print(\"Years with extreme droughts affecting more than 95% of regions:\")\n",
    "for year in ext_dro_years:\n",
    "    print(f\"Year: {year}, Affected areas: {mod_dro_regions[year]}\")"
   ]
  }
 ],
 "metadata": {
  "kernelspec": {
   "display_name": "Python 3",
   "language": "python",
   "name": "python3"
  },
  "language_info": {
   "codemirror_mode": {
    "name": "ipython",
    "version": 3
   },
   "file_extension": ".py",
   "mimetype": "text/x-python",
   "name": "python",
   "nbconvert_exporter": "python",
   "pygments_lexer": "ipython3",
   "version": "undefined.undefined.undefined"
  }
 },
 "nbformat": 4,
 "nbformat_minor": 2
}
